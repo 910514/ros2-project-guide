{
 "cells": [
  {
   "cell_type": "code",
   "execution_count": 1,
   "metadata": {},
   "outputs": [
    {
     "name": "stdout",
     "output_type": "stream",
     "text": [
      "Creating new Ultralytics Settings v0.0.6 file ✅ \n",
      "View Ultralytics Settings with 'yolo settings' or at '/home/ubuntu/.config/Ultralytics/settings.json'\n",
      "Update Settings with 'yolo settings key=value', i.e. 'yolo settings runs_dir=path/to/dir'. For help see https://docs.ultralytics.com/quickstart/#ultralytics-settings.\n"
     ]
    }
   ],
   "source": [
    "from ultralytics import YOLO"
   ]
  },
  {
   "cell_type": "code",
   "execution_count": 2,
   "metadata": {},
   "outputs": [
    {
     "name": "stdout",
     "output_type": "stream",
     "text": [
      "Downloading https://github.com/ultralytics/assets/releases/download/v8.3.0/yolo11n.pt to 'yolo11n.pt'...\n"
     ]
    },
    {
     "name": "stderr",
     "output_type": "stream",
     "text": [
      "100%|██████████| 5.35M/5.35M [00:01<00:00, 2.98MB/s]\n"
     ]
    },
    {
     "name": "stdout",
     "output_type": "stream",
     "text": [
      "Ultralytics 8.3.63 🚀 Python-3.10.12 torch-2.5.1 CPU (Cortex-A72)\n",
      "YOLO11n summary (fused): 238 layers, 2,616,248 parameters, 0 gradients, 6.5 GFLOPs\n",
      "\n",
      "\u001b[34m\u001b[1mPyTorch:\u001b[0m starting from 'yolo11n.pt' with input shape (1, 3, 640, 640) BCHW and output shape(s) (1, 84, 8400) (5.4 MB)\n",
      "\n",
      "\u001b[34m\u001b[1mTorchScript:\u001b[0m starting export with torch 2.5.1...\n",
      "\u001b[34m\u001b[1mTorchScript:\u001b[0m export success ✅ 17.9s, saved as 'yolo11n.torchscript' (10.5 MB)\n",
      "\u001b[31m\u001b[1mrequirements:\u001b[0m Ultralytics requirement ['ncnn'] not found, attempting AutoUpdate...\n",
      "Defaulting to user installation because normal site-packages is not writeable\n",
      "Collecting ncnn\n",
      "  Downloading ncnn-1.0.20241226-cp310-cp310-manylinux_2_17_aarch64.manylinux2014_aarch64.whl.metadata (27 kB)\n",
      "Requirement already satisfied: numpy in /home/ubuntu/.local/lib/python3.10/site-packages (from ncnn) (1.23.5)\n",
      "Requirement already satisfied: tqdm in /home/ubuntu/.local/lib/python3.10/site-packages (from ncnn) (4.67.1)\n",
      "Requirement already satisfied: requests in /usr/lib/python3/dist-packages (from ncnn) (2.25.1)\n",
      "Collecting portalocker (from ncnn)\n",
      "  Downloading portalocker-3.1.1-py3-none-any.whl.metadata (8.6 kB)\n",
      "Requirement already satisfied: opencv-python in /home/ubuntu/.local/lib/python3.10/site-packages (from ncnn) (4.11.0.86)\n",
      "Downloading ncnn-1.0.20241226-cp310-cp310-manylinux_2_17_aarch64.manylinux2014_aarch64.whl (4.1 MB)\n",
      "\u001b[2K   \u001b[90m━━━━━━━━━━━━━━━━━━━━━━━━━━━━━━━━━━━━━━━━\u001b[0m \u001b[32m4.1/4.1 MB\u001b[0m \u001b[31m2.4 MB/s\u001b[0m eta \u001b[36m0:00:00\u001b[0ma \u001b[36m0:00:01\u001b[0m\n",
      "\u001b[?25hDownloading portalocker-3.1.1-py3-none-any.whl (19 kB)\n",
      "Installing collected packages: portalocker, ncnn\n",
      "Successfully installed ncnn-1.0.20241226 portalocker-3.1.1\n",
      "\n",
      "\u001b[31m\u001b[1mrequirements:\u001b[0m AutoUpdate success ✅ 12.3s, installed 1 package: ['ncnn']\n",
      "\u001b[31m\u001b[1mrequirements:\u001b[0m ⚠️ \u001b[1mRestart runtime or rerun command for updates to take effect\u001b[0m\n",
      "\n",
      "\n",
      "\u001b[34m\u001b[1mNCNN:\u001b[0m starting export with NCNN 1.0.20241226...\n",
      "\u001b[34m\u001b[1mNCNN:\u001b[0m WARNING ⚠️ PNNX not found. Attempting to download binary file from https://github.com/pnnx/pnnx/.\n",
      "Note PNNX Binary file must be placed in current working directory or in /home/ubuntu/.local/lib/python3.10/site-packages/ultralytics. See PNNX repo for full installation instructions.\n",
      "\u001b[34m\u001b[1mNCNN:\u001b[0m successfully found latest PNNX asset file pnnx-20241223-linux-aarch64.zip\n",
      "Downloading https://github.com/pnnx/pnnx/releases/download/20241223/pnnx-20241223-linux-aarch64.zip to 'pnnx-20241223-linux-aarch64.zip'...\n"
     ]
    },
    {
     "name": "stderr",
     "output_type": "stream",
     "text": [
      "100%|██████████| 19.9M/19.9M [00:06<00:00, 3.09MB/s]\n",
      "Unzipping pnnx-20241223-linux-aarch64.zip to /home/ubuntu/joshhuang/yolo/pnnx-20241223-linux-aarch64...: 100%|██████████| 3/3 [00:01<00:00,  2.35file/s]"
     ]
    },
    {
     "name": "stdout",
     "output_type": "stream",
     "text": [
      "\u001b[34m\u001b[1mNCNN:\u001b[0m running '/home/ubuntu/.local/lib/python3.10/site-packages/ultralytics/pnnx yolo11n.torchscript ncnnparam=yolo11n_ncnn_model/model.ncnn.param ncnnbin=yolo11n_ncnn_model/model.ncnn.bin ncnnpy=yolo11n_ncnn_model/model_ncnn.py pnnxparam=yolo11n_ncnn_model/model.pnnx.param pnnxbin=yolo11n_ncnn_model/model.pnnx.bin pnnxpy=yolo11n_ncnn_model/model_pnnx.py pnnxonnx=yolo11n_ncnn_model/model.pnnx.onnx fp16=0 device=cpu inputshape=\"[1, 3, 640, 640]\"'\n"
     ]
    },
    {
     "name": "stderr",
     "output_type": "stream",
     "text": [
      "\n",
      "pnnxparam = yolo11n_ncnn_model/model.pnnx.param\n",
      "pnnxbin = yolo11n_ncnn_model/model.pnnx.bin\n",
      "pnnxpy = yolo11n_ncnn_model/model_pnnx.py\n",
      "pnnxonnx = yolo11n_ncnn_model/model.pnnx.onnx\n",
      "ncnnparam = yolo11n_ncnn_model/model.ncnn.param\n",
      "ncnnbin = yolo11n_ncnn_model/model.ncnn.bin\n",
      "ncnnpy = yolo11n_ncnn_model/model_ncnn.py\n",
      "fp16 = 0\n",
      "optlevel = 2\n",
      "device = cpu\n",
      "inputshape = [1,3,640,640]f32\n",
      "inputshape2 = \n",
      "customop = \n",
      "moduleop = \n",
      "get inputshape from traced inputs\n",
      "inputshape = [1,3,640,640]f32\n",
      "Error in cpuinfo: prctl(PR_SVE_GET_VL) failed\n",
      "############# pass_level0\n",
      "inline module = torch.nn.modules.linear.Identity\n",
      "inline module = ultralytics.nn.modules.block.Attention\n",
      "inline module = ultralytics.nn.modules.block.Bottleneck\n",
      "inline module = ultralytics.nn.modules.block.C2PSA\n",
      "inline module = ultralytics.nn.modules.block.C3k\n",
      "inline module = ultralytics.nn.modules.block.C3k2\n",
      "inline module = ultralytics.nn.modules.block.DFL\n",
      "inline module = ultralytics.nn.modules.block.PSABlock\n",
      "inline module = ultralytics.nn.modules.block.SPPF\n",
      "inline module = ultralytics.nn.modules.conv.Concat\n",
      "inline module = ultralytics.nn.modules.conv.Conv\n",
      "inline module = ultralytics.nn.modules.conv.DWConv\n",
      "inline module = ultralytics.nn.modules.head.Detect\n",
      "inline module = torch.nn.modules.linear.Identity\n",
      "inline module = ultralytics.nn.modules.block.Attention\n",
      "inline module = ultralytics.nn.modules.block.Bottleneck\n",
      "inline module = ultralytics.nn.modules.block.C2PSA\n",
      "inline module = ultralytics.nn.modules.block.C3k\n",
      "inline module = ultralytics.nn.modules.block.C3k2\n",
      "inline module = ultralytics.nn.modules.block.DFL\n",
      "inline module = ultralytics.nn.modules.block.PSABlock\n",
      "inline module = ultralytics.nn.modules.block.SPPF\n",
      "inline module = ultralytics.nn.modules.conv.Concat\n",
      "inline module = ultralytics.nn.modules.conv.Conv\n",
      "inline module = ultralytics.nn.modules.conv.DWConv\n",
      "inline module = ultralytics.nn.modules.head.Detect\n",
      "\n",
      "----------------\n",
      "\n",
      "############# pass_level1\n",
      "############# pass_level2\n",
      "############# pass_level3\n",
      "############# pass_level4\n",
      "############# pass_level5\n",
      "############# pass_ncnn\n"
     ]
    },
    {
     "name": "stdout",
     "output_type": "stream",
     "text": [
      "\u001b[34m\u001b[1mNCNN:\u001b[0m export success ✅ 30.4s, saved as 'yolo11n_ncnn_model' (10.2 MB)\n",
      "\n",
      "Export complete (54.1s)\n",
      "Results saved to \u001b[1m/home/ubuntu/joshhuang/yolo\u001b[0m\n",
      "Predict:         yolo predict task=detect model=yolo11n_ncnn_model imgsz=640  \n",
      "Validate:        yolo val task=detect model=yolo11n_ncnn_model imgsz=640 data=/usr/src/ultralytics/ultralytics/cfg/datasets/coco.yaml  \n",
      "Visualize:       https://netron.app\n"
     ]
    },
    {
     "data": {
      "text/plain": [
       "'yolo11n_ncnn_model'"
      ]
     },
     "execution_count": 2,
     "metadata": {},
     "output_type": "execute_result"
    }
   ],
   "source": [
    "# Load a YOLO11n PyTorch model\n",
    "model = YOLO(\"yolo11n.pt\")\n",
    "\n",
    "# Export the model to NCNN format\n",
    "model.export(format=\"ncnn\")  # creates 'yolo11n_ncnn_model'"
   ]
  },
  {
   "cell_type": "code",
   "execution_count": 3,
   "metadata": {},
   "outputs": [
    {
     "name": "stdout",
     "output_type": "stream",
     "text": [
      "WARNING ⚠️ Unable to automatically guess model task, assuming 'task=detect'. Explicitly define task for your model, i.e. 'task=detect', 'segment', 'classify','pose' or 'obb'.\n",
      "Loading yolo11n_ncnn_model for NCNN inference...\n",
      "\n",
      "Downloading https://ultralytics.com/images/bus.jpg to 'bus.jpg'...\n"
     ]
    },
    {
     "name": "stderr",
     "output_type": "stream",
     "text": [
      "100%|██████████| 134k/134k [00:00<00:00, 642kB/s]\n"
     ]
    },
    {
     "name": "stdout",
     "output_type": "stream",
     "text": [
      "image 1/1 /home/ubuntu/joshhuang/yolo/bus.jpg: 640x640 4 persons, 1 bus, 1768.4ms\n",
      "Speed: 48.8ms preprocess, 1768.4ms inference, 58.9ms postprocess per image at shape (1, 3, 640, 640)\n"
     ]
    }
   ],
   "source": [
    "# Load the exported NCNN model\n",
    "ncnn_model = YOLO(\"yolo11n_ncnn_model\")\n",
    "\n",
    "# Run inference\n",
    "results = ncnn_model(\"https://ultralytics.com/images/bus.jpg\")"
   ]
  }
 ],
 "metadata": {
  "kernelspec": {
   "display_name": "Python 3",
   "language": "python",
   "name": "python3"
  },
  "language_info": {
   "codemirror_mode": {
    "name": "ipython",
    "version": 3
   },
   "file_extension": ".py",
   "mimetype": "text/x-python",
   "name": "python",
   "nbconvert_exporter": "python",
   "pygments_lexer": "ipython3",
   "version": "3.10.12"
  }
 },
 "nbformat": 4,
 "nbformat_minor": 2
}
