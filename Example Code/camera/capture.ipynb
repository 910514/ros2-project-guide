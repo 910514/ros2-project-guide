{
 "cells": [
  {
   "cell_type": "code",
   "execution_count": 1,
   "metadata": {},
   "outputs": [
    {
     "name": "stdout",
     "output_type": "stream",
     "text": [
      "Photo capture program. Enter 'y' to take a photo, 'n' to exit.\n"
     ]
    },
    {
     "name": "stdout",
     "output_type": "stream",
     "text": [
      "Photo saved: imgs/image_1.jpg\n",
      "Invalid input. Please enter 'y' or 'n'.\n",
      "Exiting photo capture program.\n",
      "Program finished.\n"
     ]
    }
   ],
   "source": [
    "import subprocess\n",
    "import os\n",
    "\n",
    "# Ensure the imgs folder exists\n",
    "output_folder = \"imgs\"\n",
    "os.makedirs(output_folder, exist_ok=True)\n",
    "\n",
    "# Start the capture loop\n",
    "print(\"Photo capture program. Enter 'y' to take a photo, 'n' to exit.\")\n",
    "\n",
    "for i in range(1, 100):  # Arbitrary large limit for the loop\n",
    "    user_input = input(\"Capture photo? (y/n): \").strip().lower()\n",
    "    if user_input == \"y\":\n",
    "        # File name for the captured image\n",
    "        image_path = os.path.join(output_folder, f\"image_{i}.jpg\")\n",
    "\n",
    "        # Command to capture the image and flip it vertically and horizontally\n",
    "        command = [\"fswebcam\", \"-r 1920x1080\", \"--no-banner\", \"--flip\", \"v\", \"--flip\", \"h\", image_path]\n",
    "\n",
    "        try:\n",
    "            # Run the command\n",
    "            subprocess.run(command, capture_output=True, check=True, text=True)\n",
    "            print(f\"Photo saved: {image_path}\")\n",
    "        except subprocess.CalledProcessError as e:\n",
    "            print(f\"Error capturing photo: {e.stderr}\")\n",
    "        except FileNotFoundError:\n",
    "            print(\"Error: 'fswebcam' is not installed or not found.\")\n",
    "            break\n",
    "    elif user_input == \"n\":\n",
    "        print(\"Exiting photo capture program.\")\n",
    "        break\n",
    "    else:\n",
    "        print(\"Invalid input. Please enter 'y' or 'n'.\")\n",
    "\n",
    "print(\"Program finished.\")\n"
   ]
  }
 ],
 "metadata": {
  "kernelspec": {
   "display_name": "Python 3",
   "language": "python",
   "name": "python3"
  },
  "language_info": {
   "codemirror_mode": {
    "name": "ipython",
    "version": 3
   },
   "file_extension": ".py",
   "mimetype": "text/x-python",
   "name": "python",
   "nbconvert_exporter": "python",
   "pygments_lexer": "ipython3",
   "version": "3.10.12"
  }
 },
 "nbformat": 4,
 "nbformat_minor": 2
}
